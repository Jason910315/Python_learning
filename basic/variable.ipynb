{
 "cells": [
  {
   "cell_type": "code",
   "execution_count": null,
   "metadata": {},
   "outputs": [],
   "source": [
    "#全域變數與區域變數的陷阱\n",
    "a = []\n",
    "b = a\n",
    "c = []\n",
    "d = c\n",
    "def f1():\n",
    "    a.append(1)\n",
    "    #global c，若加上這句則f2裡的c會受影響\n",
    "    c = [1]\n",
    "    print(a)  # [1]\n",
    "    print(b)  # [1]   # 被影響\n",
    "    print(c)  # [1]\n",
    "    print(d)  # []    # 不受影響\n",
    "def f2():\n",
    "    print(a)  # [1]   # 被影響\n",
    "    print(b)  # [1]   # 被影響\n",
    "    print(c)  # []    # 不受影響\n",
    "    print(d)  # []    # 不受影響\n",
    "f1()\n",
    "f2()\n"
   ]
  },
  {
   "cell_type": "code",
   "execution_count": 7,
   "metadata": {},
   "outputs": [
    {
     "name": "stdout",
     "output_type": "stream",
     "text": [
      "helloworld!!!\n",
      "0123456789abcdef\n",
      "56789abcdef\n",
      "01234\n",
      "56789\n",
      "56789abc\n",
      "579\n"
     ]
    }
   ],
   "source": [
    "#字串擷取，slice\n",
    "a = 'hello' 'world'  '!!!'\n",
    "print(a)\n",
    "a = '0123456789abcdef'\n",
    "print(a[:])       # 0123456789abcdef ( 取出全部字元 )\n",
    "print(a[5:])      # 56789abcdef ( 從 5 開始到結束 )\n",
    "print(a[:5])      # 01234 ( 從 0 開始到第 4 個 ( 5-1 ) )\n",
    "print(a[5:10])    # 56789 ( 從 5 開始到第 9 個 ( 10-1 ) )\n",
    "print(a[5:-3])    # 56789abc ( 從 5 開始到倒數第 4 個 ( -3-1 ) )\n",
    "print(a[5:10:2])  # 579 ( 從 5 開始到第 9 個，中間略過 2 個 )"
   ]
  },
  {
   "cell_type": "code",
   "execution_count": 8,
   "metadata": {},
   "outputs": [
    {
     "name": "stdout",
     "output_type": "stream",
     "text": [
      "  hello!!\n",
      "hello!!\n"
     ]
    }
   ],
   "source": [
    "a = '  hello!!'\n",
    "b = a.strip()\n",
    "print(a)\n",
    "print(b)"
   ]
  },
  {
   "cell_type": "code",
   "execution_count": 16,
   "metadata": {},
   "outputs": [
    {
     "data": {
      "text/plain": [
       "False"
      ]
     },
     "execution_count": 16,
     "metadata": {},
     "output_type": "execute_result"
    }
   ],
   "source": [
    "#字串搜尋\n",
    "a = 'hello world, I am oxxo, I am a designer!'\n",
    "a.find(\"am\")\n",
    "a.rfind(\"am\")\n",
    "a.startswith(\"hello\")\n",
    "a.endswith(\";;\")\n",
    "a.count(\"l\")\n",
    "a.isalnum()\n",
    "a.isalpha()"
   ]
  },
  {
   "cell_type": "code",
   "execution_count": 22,
   "metadata": {},
   "outputs": [
    {
     "name": "stdout",
     "output_type": "stream",
     "text": [
      "Hello world I am Jason\n"
     ]
    }
   ],
   "source": [
    "a = \" world\"\n",
    "b = \"Jason\"\n",
    "c = f\"Hello{a} I am {b}\"\n",
    "print(c)"
   ]
  },
  {
   "cell_type": "code",
   "execution_count": 30,
   "metadata": {},
   "outputs": [
    {
     "name": "stdout",
     "output_type": "stream",
     "text": [
      "c\n",
      "[9, 8, 7, 6, 5, 4, 3, 2, 1, 0]\n"
     ]
    }
   ],
   "source": [
    "a = ['apple','banana','orange',['dog','cat']]\n",
    "print(a[3][1][0])   # dog\n",
    "a = [0,1,2,3,4,5,6,7,8,9]\n",
    "b = a[::3]\n",
    "c = a[3::2]\n",
    "d = a[::-1]\n",
    "e = a[::-2]\n",
    "print(d)\n"
   ]
  },
  {
   "cell_type": "code",
   "execution_count": 33,
   "metadata": {},
   "outputs": [
    {
     "name": "stdout",
     "output_type": "stream",
     "text": [
      "[1, 1, 2, 3]\n",
      "[0, 1, 2, 3]\n"
     ]
    }
   ],
   "source": [
    "a = [0,1,2,3]\n",
    "b = a[:]\n",
    "a[0] = 1\n",
    "print(a) #1,1,2,3\n",
    "print(b) #0,1,2,3"
   ]
  },
  {
   "cell_type": "code",
   "execution_count": 38,
   "metadata": {},
   "outputs": [
    {
     "name": "stdout",
     "output_type": "stream",
     "text": [
      "['a', 'b', 'c', 'd', 100, 'e']\n"
     ]
    }
   ],
   "source": [
    "d = ['a','b','c','d','e']\n",
    "d.insert(-1,100)\n",
    "print(d)"
   ]
  },
  {
   "cell_type": "code",
   "execution_count": null,
   "metadata": {},
   "outputs": [],
   "source": [
    "p = [[1]*5 for i in range(2)]\n",
    "print(p)\n",
    "for i in range(2):\n",
    "    for j in range(5):\n",
    "        print(p[i][j])"
   ]
  },
  {
   "cell_type": "code",
   "execution_count": 4,
   "metadata": {},
   "outputs": [
    {
     "name": "stdout",
     "output_type": "stream",
     "text": [
      "None\n"
     ]
    }
   ],
   "source": [
    "a = [['x','100'],['y','200'],['z','300']]\n",
    "dict3 = dict(a) #也可將原本是list的變數變為dict\n",
    "print(dict3.get('f'))"
   ]
  },
  {
   "cell_type": "code",
   "execution_count": 7,
   "metadata": {},
   "outputs": [
    {
     "name": "stdout",
     "output_type": "stream",
     "text": [
      "{'name': 'oxxo', 'age': 18, 'weight': 60, 'height': 170}\n"
     ]
    }
   ],
   "source": [
    "a = {'name':'oxxo', 'age':18}\n",
    "b = {'weight':60, 'height':170}\n",
    "c = {**a,**b}\n",
    "a.update(b)\n",
    "print(a)"
   ]
  },
  {
   "cell_type": "code",
   "execution_count": 17,
   "metadata": {},
   "outputs": [
    {
     "name": "stdout",
     "output_type": "stream",
     "text": [
      "{'name': 'oxxo', 'age': 20, 'eat': ['apple', 'banana']}\n",
      "{'name': 'oxxo', 'age': 18, 'eat': ['apple', 'banana']}\n"
     ]
    }
   ],
   "source": [
    "a = {'name':'oxxo', 'age':18,'eat':['apple','egg']}\n",
    "b = a.copy()\n",
    "a['age'] = 20\n",
    "a['eat'][1] = 'banana'\n",
    "print(a)\n",
    "print(b)"
   ]
  },
  {
   "cell_type": "code",
   "execution_count": 18,
   "metadata": {},
   "outputs": [
    {
     "name": "stdout",
     "output_type": "stream",
     "text": [
      "{3, 4, 5}\n"
     ]
    }
   ],
   "source": [
    "a = {1,2,3,4,5}\n",
    "b = {3,4,5,6,7}\n",
    "\n",
    "print(a.intersection(b))"
   ]
  },
  {
   "cell_type": "code",
   "execution_count": 22,
   "metadata": {},
   "outputs": [
    {
     "name": "stdout",
     "output_type": "stream",
     "text": [
      "大人\n"
     ]
    }
   ],
   "source": [
    "a = int(input('輸入文字：'))\n",
    "print(\"小孩\") if a < 20 else print(\"大人\")\n"
   ]
  },
  {
   "cell_type": "code",
   "execution_count": 23,
   "metadata": {},
   "outputs": [
    {
     "name": "stdout",
     "output_type": "stream",
     "text": [
      "2\n"
     ]
    }
   ],
   "source": [
    "e = 1 and 2 or 3\n",
    "print(e)            # 2，效果等同 1 and ( 2 or 3 )"
   ]
  },
  {
   "cell_type": "code",
   "execution_count": 26,
   "metadata": {},
   "outputs": [
    {
     "name": "stdout",
     "output_type": "stream",
     "text": [
      "hello\n"
     ]
    }
   ],
   "source": [
    "try:                      # 使用 try，測試內容是否正確\n",
    "    a = input('輸入數字：')\n",
    "    print(a + 1)\n",
    "except:                   # 如果 try 的內容發生錯誤，就執行 except 裡的內容\n",
    "    pass                  # 略過\n",
    "print('hello')"
   ]
  },
  {
   "cell_type": "code",
   "execution_count": 27,
   "metadata": {},
   "outputs": [
    {
     "name": "stdout",
     "output_type": "stream",
     "text": [
      "['a1', 'a2', 'a3', 'b1', 'b2', 'b3', 'c1', 'c2', 'c3']\n"
     ]
    }
   ],
   "source": [
    "a = [i + str(j) for i in 'abc' for j in range(1, 4)]\n",
    "print(a) "
   ]
  },
  {
   "cell_type": "code",
   "execution_count": 33,
   "metadata": {},
   "outputs": [
    {
     "name": "stdout",
     "output_type": "stream",
     "text": [
      "[100, 2, 100, 4, 100, 6, 100, 8, 100]\n"
     ]
    }
   ],
   "source": [
    "#建立一串列，將1~10中偶數加入串列中\n",
    "a = []\n",
    "for i in range(1,10):\n",
    "    if(i%2==0):\n",
    "        a.append(i)\n",
    "#生成式串列做法，加上if\n",
    "b = [i for i in range(1,10) if i%2==0]\n",
    "#若if放在for前面，則須加上\"else\"，以下將奇數變為100加入\n",
    "c = [i if i%2==0 else 100 for i in range(1,10)]"
   ]
  },
  {
   "cell_type": "code",
   "execution_count": 36,
   "metadata": {},
   "outputs": [
    {
     "name": "stdout",
     "output_type": "stream",
     "text": [
      "{1: 1, 2: 4, 3: 9, 4: 16}\n"
     ]
    }
   ],
   "source": [
    "#字典生成串列式\n",
    "dict1 = {i:i*i for i in range(1,5)}\n",
    "#集合生成串列式\n",
    "set1 = {i for i in range(1,5)}\n",
    "print(dict1)"
   ]
  },
  {
   "cell_type": "code",
   "execution_count": 37,
   "metadata": {},
   "outputs": [
    {
     "name": "stdout",
     "output_type": "stream",
     "text": [
      "hello\n",
      "baseball\n"
     ]
    }
   ],
   "source": [
    "class human():\n",
    "    def __init__(self):\n",
    "        self.eye = 2\n",
    "        self.ear = 2\n",
    "        self.nose = 1\n",
    "        self.mouth = 1\n",
    "    def say(self, msg):      # 定義 say\n",
    "        print(msg)\n",
    "    def play(self, thing):   # 定義 play\n",
    "        print(thing)\n",
    "\n",
    "oxxo = human()\n",
    "oxxo.say('hello')          # hello\n",
    "oxxo.play('baseball') "
   ]
  }
 ],
 "metadata": {
  "kernelspec": {
   "display_name": "Python 3",
   "language": "python",
   "name": "python3"
  },
  "language_info": {
   "codemirror_mode": {
    "name": "ipython",
    "version": 3
   },
   "file_extension": ".py",
   "mimetype": "text/x-python",
   "name": "python",
   "nbconvert_exporter": "python",
   "pygments_lexer": "ipython3",
   "version": "3.10.6"
  }
 },
 "nbformat": 4,
 "nbformat_minor": 2
}
